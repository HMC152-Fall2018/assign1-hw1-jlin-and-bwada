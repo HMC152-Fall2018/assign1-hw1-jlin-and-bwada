{
 "cells": [
  {
   "cell_type": "markdown",
   "metadata": {},
   "source": [
    "Assignment 1 Julianne Lin, Brandon Wada\n",
    "\n"
   ]
  },
  {
   "cell_type": "code",
   "execution_count": 1,
   "metadata": {},
   "outputs": [],
   "source": [
    "# We put these at the top\n",
    "%reload_ext autoreload\n",
    "%autoreload 2\n",
    "%matplotlib inline"
   ]
  },
  {
   "cell_type": "markdown",
   "metadata": {},
   "source": [
    "We used the following commands once to download the data.\n",
    "\n",
    "%env KAGGLE_USERNAME=hmcclyde\n",
    "%env KAGGLE_KEY=f8be01b52e62422dcb2e983b72ec1300\n",
    "!kaggle competitions download -c dog-breed-identification\n",
    "\n",
    "We manually moved the files from the notebooks folder that they were downloaded into to the data folder using Jupyter lab's file explorer"
   ]
  },
  {
   "cell_type": "markdown",
   "metadata": {},
   "source": [
    "----\n",
    "One time unzip the folders into our directory\n",
    "\n",
    "!unzip ../../data/dogbreeds/labels.csv.zip -d ../../data/dogbreeds\n",
    "!unzip ../../data/dogbreeds/test.zip -d ../../data/dogbreeds\n",
    "!unzip ../../data/dogbreeds/train.zip -d ../../data/dogbreeds"
   ]
  },
  {
   "cell_type": "code",
   "execution_count": null,
   "metadata": {},
   "outputs": [],
   "source": [
    "#One time use to create a directory for each dog breed\n",
    "\"\"\"\n",
    "import csv\n",
    "import os\n",
    "\n",
    "#make a validation folder\n",
    "#os.makedirs(\"../../data/dogbreeds/valid\")\n",
    "\n",
    "#iterate through the csv file to collect all the dog breeds\n",
    "breeds = []\n",
    "with open('../../data/dogbreeds/labels.csv', newline='') as csvfile:\n",
    "    reader = csv.DictReader(csvfile)\n",
    "    for row in reader:\n",
    "        if not ((row['breed']) in breeds):\n",
    "            L.append(row['breed'])\n",
    "            \n",
    "mkdirtrainpath = \"../../data/dogbreeds/train/\"\n",
    "mkdirvalidpath = \"../../data/dogbreeds/valid/\"\n",
    "for i in L:\n",
    "    os.makedirs(mkdirtrainpath + i)\n",
    "    os.makedirs(mkdirvalidpath + i)\n",
    "\"\"\"\n"
   ]
  },
  {
   "cell_type": "code",
   "execution_count": 2,
   "metadata": {},
   "outputs": [],
   "source": [
    "#One time use to sort the data into the respective folder\n",
    "\"\"\"\n",
    "import shutil\n",
    "import csv\n",
    "folder  = \"../../data/dogbreeds/train/\"\n",
    "with open('../../data/dogbreeds/labels.csv', newline='') as csvfile:\n",
    "    reader = csv.DictReader(csvfile)\n",
    "    for row in reader:\n",
    "        shutil.move(folder + row['id'] + \".jpg\",folder + row['breed'])\n",
    "\"\"\""
   ]
  },
  {
   "cell_type": "code",
   "execution_count": 17,
   "metadata": {},
   "outputs": [],
   "source": [
    "#One time use to create validation set\n",
    "\"\"\"\n",
    "import random\n",
    "trainingpath = \"../../data/dogbreeds/train/\"\n",
    "breedfolders = os.listdir(trainingpath)\n",
    "for i in breedfolders:\n",
    "    for j in range(6):\n",
    "        pics = os.listdir(trainingpath + i)\n",
    "        shutil.move(trainingpath + i + \"/\" + (random.choice(pics)),\"../../data/dogbreeds/valid/\" + i)\n",
    "\"\"\""
   ]
  },
  {
   "cell_type": "markdown",
   "metadata": {},
   "source": [
    "Having created the necessary directory structure, we now can build our net"
   ]
  },
  {
   "cell_type": "code",
   "execution_count": 2,
   "metadata": {},
   "outputs": [
    {
     "name": "stderr",
     "output_type": "stream",
     "text": [
      "/home/bwada/.local/lib/python3.6/site-packages/sklearn/ensemble/weight_boosting.py:29: DeprecationWarning: numpy.core.umath_tests is an internal NumPy module and should not be imported. It will be removed in a future NumPy release.\n",
      "  from numpy.core.umath_tests import inner1d\n"
     ]
    }
   ],
   "source": [
    "# This file contains all the main external libs we'll use\n",
    "from fastai.imports import *\n",
    "from fastai.transforms import *\n",
    "from fastai.conv_learner import *\n",
    "from fastai.model import *\n",
    "from fastai.dataset import *\n",
    "from fastai.sgdr import *\n",
    "from fastai.plots import *"
   ]
  },
  {
   "cell_type": "markdown",
   "metadata": {},
   "source": [
    "sets variables, using resnet34 pretrained model."
   ]
  },
  {
   "cell_type": "code",
   "execution_count": 3,
   "metadata": {},
   "outputs": [],
   "source": [
    "arch=resnet34\n",
    "PATH = \"../../data/dogbreeds/\"\n",
    "sz=224"
   ]
  },
  {
   "cell_type": "markdown",
   "metadata": {},
   "source": [
    "Sets the data and hyperparameters"
   ]
  },
  {
   "cell_type": "code",
   "execution_count": 18,
   "metadata": {},
   "outputs": [],
   "source": [
    "data = ImageClassifierData.from_paths(PATH, tfms=tfms_from_model(arch, sz),\n",
    "                                      test_name=\"test\")"
   ]
  },
  {
   "cell_type": "markdown",
   "metadata": {},
   "source": [
    "NOW WE LEARN"
   ]
  },
  {
   "cell_type": "code",
   "execution_count": 19,
   "metadata": {},
   "outputs": [
    {
     "name": "stdout",
     "output_type": "stream",
     "text": [
      "100%|██████████| 149/149 [00:54<00:00,  3.77it/s]\n",
      "100%|██████████| 12/12 [00:04<00:00,  3.65it/s]\n",
      "100%|██████████| 162/162 [00:58<00:00,  2.57it/s]\n"
     ]
    },
    {
     "data": {
      "application/vnd.jupyter.widget-view+json": {
       "model_id": "e99b425c1eca4f35988e61db5d73bd50",
       "version_major": 2,
       "version_minor": 0
      },
      "text/plain": [
       "HBox(children=(IntProgress(value=0, description='Epoch', max=2), HTML(value='')))"
      ]
     },
     "metadata": {},
     "output_type": "display_data"
    },
    {
     "name": "stdout",
     "output_type": "stream",
     "text": [
      "epoch      trn_loss   val_loss   accuracy   \n",
      "    0      1.843428   0.97659    0.768056  \n",
      "    1      0.953113   0.67958    0.811111  \n",
      "\n"
     ]
    },
    {
     "data": {
      "text/plain": [
       "[array([0.67958]), 0.8111111111111111]"
      ]
     },
     "execution_count": 19,
     "metadata": {},
     "output_type": "execute_result"
    }
   ],
   "source": [
    "learn = ConvLearner.pretrained(arch, data, precompute=True)\n",
    "learn.fit(0.01, 2)"
   ]
  },
  {
   "cell_type": "markdown",
   "metadata": {},
   "source": [
    "Having trained the net, we can make predictions"
   ]
  },
  {
   "cell_type": "code",
   "execution_count": 20,
   "metadata": {},
   "outputs": [],
   "source": [
    "log_preds, y = learn.predict_with_targs(is_test=True) # use test dataset rather than validation dataset\n",
    "probs = np.exp(log_preds)"
   ]
  },
  {
   "cell_type": "markdown",
   "metadata": {},
   "source": [
    "We then fill a pandas datafram"
   ]
  },
  {
   "cell_type": "code",
   "execution_count": 22,
   "metadata": {},
   "outputs": [
    {
     "data": {
      "text/plain": [
       "(10357, 120)"
      ]
     },
     "execution_count": 22,
     "metadata": {},
     "output_type": "execute_result"
    }
   ],
   "source": [
    "probs.shape # (n_images, n_classes)"
   ]
  },
  {
   "cell_type": "code",
   "execution_count": 24,
   "metadata": {},
   "outputs": [],
   "source": [
    "data.classes"
   ]
  },
  {
   "cell_type": "code",
   "execution_count": 30,
   "metadata": {},
   "outputs": [
    {
     "data": {
      "text/plain": [
       "array([[0.00038, 0.00177, 0.00178, ..., 0.0461 , 0.00134, 0.00175],\n",
       "       [0.00084, 0.00001, 0.00042, ..., 0.00009, 0.00003, 0.00007],\n",
       "       [0.00012, 0.00011, 0.00004, ..., 0.00011, 0.00012, 0.00004],\n",
       "       ...,\n",
       "       [0.0001 , 0.00001, 0.00004, ..., 0.00012, 0.28986, 0.00006],\n",
       "       [0.00041, 0.00005, 0.00027, ..., 0.00112, 0.0002 , 0.00073],\n",
       "       [0.00371, 0.00001, 0.00001, ..., 0.00001, 0.     , 0.00649]], dtype=float32)"
      ]
     },
     "execution_count": 30,
     "metadata": {},
     "output_type": "execute_result"
    }
   ],
   "source": [
    "probs[:,:]"
   ]
  },
  {
   "cell_type": "code",
   "execution_count": 40,
   "metadata": {},
   "outputs": [],
   "source": [
    "df = pd.DataFrame(probs[:,:])\n",
    "df.columns = [data.classes]"
   ]
  },
  {
   "cell_type": "code",
   "execution_count": 41,
   "metadata": {},
   "outputs": [],
   "source": [
    "df.insert(0, 'id', [o[5:-4] for o in data.test_ds.fnames])"
   ]
  },
  {
   "cell_type": "code",
   "execution_count": 43,
   "metadata": {},
   "outputs": [
    {
     "data": {
      "text/html": [
       "<div>\n",
       "<style scoped>\n",
       "    .dataframe tbody tr th:only-of-type {\n",
       "        vertical-align: middle;\n",
       "    }\n",
       "\n",
       "    .dataframe tbody tr th {\n",
       "        vertical-align: top;\n",
       "    }\n",
       "\n",
       "    .dataframe thead tr th {\n",
       "        text-align: left;\n",
       "    }\n",
       "</style>\n",
       "<table border=\"1\" class=\"dataframe\">\n",
       "  <thead>\n",
       "    <tr>\n",
       "      <th></th>\n",
       "      <th>id</th>\n",
       "      <th>affenpinscher</th>\n",
       "      <th>afghan_hound</th>\n",
       "      <th>african_hunting_dog</th>\n",
       "      <th>airedale</th>\n",
       "      <th>american_staffordshire_terrier</th>\n",
       "      <th>appenzeller</th>\n",
       "      <th>australian_terrier</th>\n",
       "      <th>basenji</th>\n",
       "      <th>basset</th>\n",
       "      <th>...</th>\n",
       "      <th>toy_poodle</th>\n",
       "      <th>toy_terrier</th>\n",
       "      <th>vizsla</th>\n",
       "      <th>walker_hound</th>\n",
       "      <th>weimaraner</th>\n",
       "      <th>welsh_springer_spaniel</th>\n",
       "      <th>west_highland_white_terrier</th>\n",
       "      <th>whippet</th>\n",
       "      <th>wire-haired_fox_terrier</th>\n",
       "      <th>yorkshire_terrier</th>\n",
       "    </tr>\n",
       "  </thead>\n",
       "  <tbody>\n",
       "    <tr>\n",
       "      <th>0</th>\n",
       "      <td>f1705303b30da3a48db2a5f34376b947</td>\n",
       "      <td>0.000385</td>\n",
       "      <td>0.001774</td>\n",
       "      <td>0.001778</td>\n",
       "      <td>0.008977</td>\n",
       "      <td>0.004484</td>\n",
       "      <td>0.000376</td>\n",
       "      <td>0.000681</td>\n",
       "      <td>0.000615</td>\n",
       "      <td>0.000210</td>\n",
       "      <td>...</td>\n",
       "      <td>0.001249</td>\n",
       "      <td>0.000963</td>\n",
       "      <td>0.156417</td>\n",
       "      <td>0.001613</td>\n",
       "      <td>0.372945</td>\n",
       "      <td>0.000278</td>\n",
       "      <td>0.000131</td>\n",
       "      <td>0.046104</td>\n",
       "      <td>0.001335</td>\n",
       "      <td>0.001748</td>\n",
       "    </tr>\n",
       "    <tr>\n",
       "      <th>1</th>\n",
       "      <td>a9b79809bc1301f8d148e15bfecf6485</td>\n",
       "      <td>0.000843</td>\n",
       "      <td>0.000008</td>\n",
       "      <td>0.000423</td>\n",
       "      <td>0.000009</td>\n",
       "      <td>0.000111</td>\n",
       "      <td>0.001837</td>\n",
       "      <td>0.000243</td>\n",
       "      <td>0.000077</td>\n",
       "      <td>0.000098</td>\n",
       "      <td>...</td>\n",
       "      <td>0.000202</td>\n",
       "      <td>0.000407</td>\n",
       "      <td>0.000033</td>\n",
       "      <td>0.000493</td>\n",
       "      <td>0.000228</td>\n",
       "      <td>0.000092</td>\n",
       "      <td>0.205219</td>\n",
       "      <td>0.000089</td>\n",
       "      <td>0.000033</td>\n",
       "      <td>0.000074</td>\n",
       "    </tr>\n",
       "    <tr>\n",
       "      <th>2</th>\n",
       "      <td>cc94a3bb7191a247f59e1540d8430c93</td>\n",
       "      <td>0.000121</td>\n",
       "      <td>0.000107</td>\n",
       "      <td>0.000044</td>\n",
       "      <td>0.000024</td>\n",
       "      <td>0.000077</td>\n",
       "      <td>0.092876</td>\n",
       "      <td>0.000018</td>\n",
       "      <td>0.000090</td>\n",
       "      <td>0.000301</td>\n",
       "      <td>...</td>\n",
       "      <td>0.000024</td>\n",
       "      <td>0.000069</td>\n",
       "      <td>0.000080</td>\n",
       "      <td>0.000264</td>\n",
       "      <td>0.000011</td>\n",
       "      <td>0.001401</td>\n",
       "      <td>0.000082</td>\n",
       "      <td>0.000112</td>\n",
       "      <td>0.000120</td>\n",
       "      <td>0.000038</td>\n",
       "    </tr>\n",
       "    <tr>\n",
       "      <th>3</th>\n",
       "      <td>f7b489a38302afc010d8a386a1b7d085</td>\n",
       "      <td>0.000023</td>\n",
       "      <td>0.000115</td>\n",
       "      <td>0.000007</td>\n",
       "      <td>0.000010</td>\n",
       "      <td>0.000022</td>\n",
       "      <td>0.144174</td>\n",
       "      <td>0.000004</td>\n",
       "      <td>0.000060</td>\n",
       "      <td>0.000150</td>\n",
       "      <td>...</td>\n",
       "      <td>0.000004</td>\n",
       "      <td>0.000025</td>\n",
       "      <td>0.000004</td>\n",
       "      <td>0.000147</td>\n",
       "      <td>0.000005</td>\n",
       "      <td>0.000264</td>\n",
       "      <td>0.000019</td>\n",
       "      <td>0.000043</td>\n",
       "      <td>0.000023</td>\n",
       "      <td>0.000009</td>\n",
       "    </tr>\n",
       "    <tr>\n",
       "      <th>4</th>\n",
       "      <td>6e21c96226078576342ca66e25eb1aa9</td>\n",
       "      <td>0.007975</td>\n",
       "      <td>0.001362</td>\n",
       "      <td>0.000380</td>\n",
       "      <td>0.002722</td>\n",
       "      <td>0.000114</td>\n",
       "      <td>0.000352</td>\n",
       "      <td>0.000223</td>\n",
       "      <td>0.000524</td>\n",
       "      <td>0.000638</td>\n",
       "      <td>...</td>\n",
       "      <td>0.000168</td>\n",
       "      <td>0.000097</td>\n",
       "      <td>0.001033</td>\n",
       "      <td>0.000238</td>\n",
       "      <td>0.000414</td>\n",
       "      <td>0.000103</td>\n",
       "      <td>0.000550</td>\n",
       "      <td>0.000420</td>\n",
       "      <td>0.002597</td>\n",
       "      <td>0.000191</td>\n",
       "    </tr>\n",
       "  </tbody>\n",
       "</table>\n",
       "<p>5 rows × 121 columns</p>\n",
       "</div>"
      ],
      "text/plain": [
       "                                 id affenpinscher afghan_hound  \\\n",
       "0  f1705303b30da3a48db2a5f34376b947      0.000385     0.001774   \n",
       "1  a9b79809bc1301f8d148e15bfecf6485      0.000843     0.000008   \n",
       "2  cc94a3bb7191a247f59e1540d8430c93      0.000121     0.000107   \n",
       "3  f7b489a38302afc010d8a386a1b7d085      0.000023     0.000115   \n",
       "4  6e21c96226078576342ca66e25eb1aa9      0.007975     0.001362   \n",
       "\n",
       "  african_hunting_dog  airedale american_staffordshire_terrier appenzeller  \\\n",
       "0            0.001778  0.008977                       0.004484    0.000376   \n",
       "1            0.000423  0.000009                       0.000111    0.001837   \n",
       "2            0.000044  0.000024                       0.000077    0.092876   \n",
       "3            0.000007  0.000010                       0.000022    0.144174   \n",
       "4            0.000380  0.002722                       0.000114    0.000352   \n",
       "\n",
       "  australian_terrier   basenji    basset        ...        toy_poodle  \\\n",
       "0           0.000681  0.000615  0.000210        ...          0.001249   \n",
       "1           0.000243  0.000077  0.000098        ...          0.000202   \n",
       "2           0.000018  0.000090  0.000301        ...          0.000024   \n",
       "3           0.000004  0.000060  0.000150        ...          0.000004   \n",
       "4           0.000223  0.000524  0.000638        ...          0.000168   \n",
       "\n",
       "  toy_terrier    vizsla walker_hound weimaraner welsh_springer_spaniel  \\\n",
       "0    0.000963  0.156417     0.001613   0.372945               0.000278   \n",
       "1    0.000407  0.000033     0.000493   0.000228               0.000092   \n",
       "2    0.000069  0.000080     0.000264   0.000011               0.001401   \n",
       "3    0.000025  0.000004     0.000147   0.000005               0.000264   \n",
       "4    0.000097  0.001033     0.000238   0.000414               0.000103   \n",
       "\n",
       "  west_highland_white_terrier   whippet wire-haired_fox_terrier  \\\n",
       "0                    0.000131  0.046104                0.001335   \n",
       "1                    0.205219  0.000089                0.000033   \n",
       "2                    0.000082  0.000112                0.000120   \n",
       "3                    0.000019  0.000043                0.000023   \n",
       "4                    0.000550  0.000420                0.002597   \n",
       "\n",
       "  yorkshire_terrier  \n",
       "0          0.001748  \n",
       "1          0.000074  \n",
       "2          0.000038  \n",
       "3          0.000009  \n",
       "4          0.000191  \n",
       "\n",
       "[5 rows x 121 columns]"
      ]
     },
     "execution_count": 43,
     "metadata": {},
     "output_type": "execute_result"
    }
   ],
   "source": [
    "df.head()"
   ]
  },
  {
   "cell_type": "code",
   "execution_count": 45,
   "metadata": {},
   "outputs": [],
   "source": [
    "SUBM = f'../../data/dogbreeds/'\n",
    "df.to_csv(f'{SUBM}dogsbreeds_JLinBWada.gz', compression='gzip', index=False)"
   ]
  },
  {
   "cell_type": "markdown",
   "metadata": {},
   "source": [
    "We then submit the csv file for the test data to kaggle"
   ]
  },
  {
   "cell_type": "markdown",
   "metadata": {},
   "source": [
    "<img src=\"images/NNHW1.png\" width=\"80%\">"
   ]
  },
  {
   "cell_type": "code",
   "execution_count": null,
   "metadata": {},
   "outputs": [],
   "source": []
  }
 ],
 "metadata": {
  "kernelspec": {
   "display_name": "Python 3",
   "language": "python",
   "name": "python3"
  },
  "language_info": {
   "codemirror_mode": {
    "name": "ipython",
    "version": 3
   },
   "file_extension": ".py",
   "mimetype": "text/x-python",
   "name": "python",
   "nbconvert_exporter": "python",
   "pygments_lexer": "ipython3",
   "version": "3.6.6"
  }
 },
 "nbformat": 4,
 "nbformat_minor": 2
}
